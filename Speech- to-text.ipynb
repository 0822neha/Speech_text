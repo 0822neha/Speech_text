{
 "cells": [
  {
   "cell_type": "markdown",
   "id": "0a156c9b",
   "metadata": {},
   "source": [
    "# Speech to text converter\n"
   ]
  },
  {
   "cell_type": "code",
   "execution_count": null,
   "id": "e7342576",
   "metadata": {},
   "outputs": [],
   "source": [
    "import speech_recognition # for Recognizer()\n",
    "import pyttsx3 # python text-to-speech\n",
    "\n",
    "sr = speech_recognition.Recognizer()\n",
    "# print(\" hello say\")\n",
    "\n",
    "with speech_recognition.Microphone() as src:\n",
    "    print(\" Silence please\")\n",
    "    sr.adjust_for_ambient_noise(src, duration = 0.5)\n",
    "    print(\" Speak now please....\")\n",
    "    audio =sr.listen(src)\n",
    "\n",
    "text = sr.recognize_google(audio)\n",
    "\n",
    "text = text.lower()\n",
    "\n",
    "print(\" You said : \"+text)"
   ]
  }
 ],
 "metadata": {
  "kernelspec": {
   "display_name": "Python 3 (ipykernel)",
   "language": "python",
   "name": "python3"
  },
  "language_info": {
   "codemirror_mode": {
    "name": "ipython",
    "version": 3
   },
   "file_extension": ".py",
   "mimetype": "text/x-python",
   "name": "python",
   "nbconvert_exporter": "python",
   "pygments_lexer": "ipython3",
   "version": "3.11.5"
  }
 },
 "nbformat": 4,
 "nbformat_minor": 5
}
